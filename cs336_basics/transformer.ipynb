{
 "cells": [
  {
   "cell_type": "markdown",
   "id": "d63c2053",
   "metadata": {},
   "source": [
    "### 3.4 Basic building blocks"
   ]
  },
  {
   "cell_type": "markdown",
   "id": "2e9a4b75",
   "metadata": {},
   "source": [
    "- > `Q` can have different `seq_len` from `KV`, while `V` can have different `d_model` from `QK`. For former, think cross attenion in translation, where both languages can have different number of tokens.\n",
    "- > `parameter` do not have `.weights`, use `.data`.\n",
    "- > each group of `param_groups` has its own state.\n",
    "- > checkout `_optimize` in \"/home/azureuser/02-fun/cs336-assignment1-basics/tests/test_optimizer.py\n",
    "- > `self.q_mha` did not get moved to new device because it's not `parameter`\n",
    "- > in-place assignment can cause trouble during back-propagation."
   ]
  },
  {
   "cell_type": "code",
   "execution_count": null,
   "id": "0dade602",
   "metadata": {},
   "outputs": [],
   "source": [
    "## `encode` take very long to encode. Multiprocess?\n",
    "## check output with `decode`\n",
    "\n",
    "# with open(\"/home/azureuser/02-fun/cs336-assignment1-basics/data/TinyStoriesV2-GPT4-valid.txt\", encoding=\"utf-8\") as f:\n",
    "#     txt = f.read()\n",
    "# tokenizer = Tokenizer.from_files(\n",
    "#     vocab_filepath=\"/home/azureuser/02-fun/cs336-assignment1-basics/train_bpe_vocab_ts.json\",\n",
    "#     merges_filepath=\"/home/azureuser/02-fun/cs336-assignment1-basics/train_bpe_merges_ts.txt\",\n",
    "#     special_tokens = [\"<|endoftext|>\"],\n",
    "# )\n",
    "# txt_ids = tokenizer.encode(txt)\n",
    "# np.save( \"../data/TinyStoriesV2-valid.npy\", np.array(txt_ids, dtype=np.int32))\n"
   ]
  },
  {
   "cell_type": "code",
   "execution_count": null,
   "id": "5857f9b0",
   "metadata": {},
   "outputs": [],
   "source": [
    "import numpy as np\n",
    "import torch\n",
    "import torch.nn.functional as F\n",
    "from einops import rearrange, einsum\n",
    "\n",
    "from model import *\n",
    "from nn_utils import *\n",
    "from data import *\n",
    "from optimizer import *\n",
    "from tokenizer import *"
   ]
  },
  {
   "cell_type": "code",
   "execution_count": null,
   "id": "e280f1e4",
   "metadata": {},
   "outputs": [],
   "source": [
    "class Dataset:\n",
    "    def __init__(self, src: str):\n",
    "        self.dataset = np.load(src, mmap_mode = \"r\")\n",
    "\n",
    "    def get_batch(self, batch_size, context_length, device=\"cpu\"):\n",
    "        return get_batch(self.dataset, batch_size, context_length, device)\n"
   ]
  },
  {
   "cell_type": "code",
   "execution_count": null,
   "id": "3d38d976",
   "metadata": {},
   "outputs": [],
   "source": [
    "dataset = Dataset(\"../data/TinyStoriesV2-valid.npy\")"
   ]
  },
  {
   "cell_type": "code",
   "execution_count": null,
   "id": "2a44a3d5",
   "metadata": {},
   "outputs": [],
   "source": [
    "batch_size = 4\n",
    "context_length = 64\n",
    "device = \"cuda:0\"\n",
    "device = \"cpu\"\n",
    "batch = dataset.get_batch(batch_size, context_length, device)\n"
   ]
  },
  {
   "cell_type": "code",
   "execution_count": null,
   "id": "841948a7",
   "metadata": {},
   "outputs": [],
   "source": [
    "vocab_filepath=\"/home/azureuser/02-fun/cs336-assignment1-basics/train_bpe_vocab_ts.json\"\n",
    "merges_filepath=\"/home/azureuser/02-fun/cs336-assignment1-basics/train_bpe_merges_ts.txt\"\n",
    "special_tokens = [\"<|endoftext|>\"]\n",
    "\n",
    "vocab, _ = get_tokenizer_from_vocab_merges_path(vocab_filepath, merges_filepath)"
   ]
  },
  {
   "cell_type": "code",
   "execution_count": null,
   "id": "81a160ea",
   "metadata": {},
   "outputs": [],
   "source": [
    "model = transformer_lm(\n",
    "    d_model =16, d_ff = 64, num_heads = 4, rope_theta = 1e4,\n",
    "    num_layers=3, vocab_size=len(vocab), context_length = 128\n",
    ")\n",
    "model.to(device)"
   ]
  },
  {
   "cell_type": "code",
   "execution_count": null,
   "id": "a72fb0ba",
   "metadata": {},
   "outputs": [],
   "source": [
    "optimizer = AdamW(\n",
    "    model.parameters(),\n",
    "    lr=1e-3,\n",
    "    weight_decay=0.01,\n",
    "    betas=(0.9, 0.999),\n",
    "    eps=1e-8,\n",
    ")\n"
   ]
  },
  {
   "cell_type": "code",
   "execution_count": null,
   "id": "aab4ac7b",
   "metadata": {},
   "outputs": [],
   "source": [
    "def train_one_step(batch):\n",
    "    # Use 1000 optimization steps for testing\n",
    "    optimizer.zero_grad()\n",
    "    x, y = batch\n",
    "    y_hat = model(x)\n",
    "    loss = cross_entropy_with_batch(y_hat, y)\n",
    "    loss.backward()\n",
    "    optimizer.step()\n"
   ]
  },
  {
   "cell_type": "code",
   "execution_count": null,
   "id": "2003ff19",
   "metadata": {},
   "outputs": [],
   "source": [
    "train_one_step(batch)"
   ]
  }
 ],
 "metadata": {
  "kernelspec": {
   "display_name": "base",
   "language": "python",
   "name": "python3"
  },
  "language_info": {
   "codemirror_mode": {
    "name": "ipython",
    "version": 3
   },
   "file_extension": ".py",
   "mimetype": "text/x-python",
   "name": "python",
   "nbconvert_exporter": "python",
   "pygments_lexer": "ipython3",
   "version": "3.12.9"
  }
 },
 "nbformat": 4,
 "nbformat_minor": 5
}
