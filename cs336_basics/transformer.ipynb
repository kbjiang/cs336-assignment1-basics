{
 "cells": [
  {
   "cell_type": "markdown",
   "id": "d63c2053",
   "metadata": {},
   "source": [
    "### 3.4 Basic building blocks"
   ]
  },
  {
   "cell_type": "markdown",
   "id": "2e9a4b75",
   "metadata": {},
   "source": [
    "- > `Q` can have different `seq_len` from `KV`, while `V` can have different `d_model` from `QK`. For former, think cross attenion in translation, where both languages can have different number of tokens.\n",
    "- > `parameter` do not have `.weights`, use `.data`.\n",
    "- > each group of `param_groups` has its own state.\n",
    "- > checkout `_optimize` in \"/home/azureuser/02-fun/cs336-assignment1-basics/tests/test_optimizer.py"
   ]
  },
  {
   "cell_type": "code",
   "execution_count": 4,
   "id": "5857f9b0",
   "metadata": {},
   "outputs": [],
   "source": [
    "import numpy as np\n",
    "import torch\n",
    "from einops import rearrange, einsum\n",
    "\n",
    "from model import *\n",
    "from nn_utils import *\n",
    "from data import *\n",
    "from optimizer import *"
   ]
  }
 ],
 "metadata": {
  "kernelspec": {
   "display_name": "base",
   "language": "python",
   "name": "python3"
  },
  "language_info": {
   "codemirror_mode": {
    "name": "ipython",
    "version": 3
   },
   "file_extension": ".py",
   "mimetype": "text/x-python",
   "name": "python",
   "nbconvert_exporter": "python",
   "pygments_lexer": "ipython3",
   "version": "3.12.9"
  }
 },
 "nbformat": 4,
 "nbformat_minor": 5
}
